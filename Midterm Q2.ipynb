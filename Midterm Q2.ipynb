{
 "cells": [
  {
   "cell_type": "markdown",
   "metadata": {},
   "source": [
    "## Remote Sensing in Environment (2024 Spring) - Midterm\n",
    "\n",
    "Question 2\n",
    "\n",
    "### 1. Reading the ENVI Spectral Library"
   ]
  },
  {
   "cell_type": "code",
   "execution_count": null,
   "metadata": {},
   "outputs": [],
   "source": [
    "from SpectralLib import SpectralLib\n",
    "from Mix import Mixer, MixerCollection\n",
    "\n",
    "ABSORPTION = [(1350,1400), (1830,1930)]\n",
    "_PV = SpectralLib('ASD_PV_RM.lib', 'ASD_PV_RM.HDR', ABSORPTION)\n",
    "_NPV = SpectralLib('ASD_NPV_RM.lib', 'ASD_NPV_RM.HDR', ABSORPTION)\n",
    "_SOIL = SpectralLib('ASD_Soils_RM.lib', 'ASD_Soils_RM.HDR', ABSORPTION)\n",
    "PV = _PV.copy()\n",
    "NPV = _NPV.copy()\n",
    "SOIL = _SOIL.copy()\n",
    "PV._rm = [(300, 800)]\n",
    "NPV._rm = [(300, 800)]\n",
    "SOIL._rm = [(300, 800)]"
   ]
  },
  {
   "cell_type": "markdown",
   "metadata": {},
   "source": [
    "### 2.1 Read Landsat 9 OLI-2 Band Specifications - Summary\n",
    "\n",
    "Example outputs:\n",
    "|Band Title|FPM No.|Wavelength Lower Limit (nm)|Wavelength Upper Limit (nm)|\n",
    "|----------|------:|--------------------------:|--------------------------:|\n",
    "|CA        |      1|                    434.977|                    450.466|\n",
    "|CA        |      2|                    435.120|                    450.563|\n",
    "|       ...|    ...|                        ...|                        ...|\n",
    "|Blue      |      1|                    451.751|                    511.797|\n",
    "|       ...|    ...|                        ...|                        ...|\n",
    "|Cirrus    |     14|                   1363.416|                   1384.279|"
   ]
  },
  {
   "cell_type": "code",
   "execution_count": null,
   "metadata": {},
   "outputs": [],
   "source": [
    "from matplotlib import pyplot as plt\n",
    "import numpy as np\n",
    "import pandas as pd\n",
    "\n",
    "source_s = pd.read_excel('L9_OLI2_Ball_FPM_RSR.v1.0.xlsx', sheet_name = 'Band summary', header = [0, 1])\n",
    "source_r = pd.read_excel('L9_OLI2_Ball_FPM_RSR.v1.0.xlsx', sheet_name = [2, 4, 5, 6, 7, 9, 11, 12, 8])  # CA, Blue, Green, Red, NIR, SWIR1, SWIR2, Pan, Cirrus"
   ]
  },
  {
   "cell_type": "code",
   "execution_count": null,
   "metadata": {},
   "outputs": [],
   "source": [
    "band_order = ['CA', 'Blue', 'Green', 'Red', 'NIR', 'SWIR1', 'SWIR2', 'Pan', 'Cirrus']\n",
    "band_title = source_s['Band'].iloc[:, 0]\n",
    "fpms = source_s['Band'].iloc[:, 1]\n",
    "lower_limit = source_s['FWHM wavelength [nm]'].iloc[:, 0]\n",
    "upper_limit = source_s['FWHM wavelength [nm]'].iloc[:, 1]\n",
    "summary = pd.concat([band_title, fpms, lower_limit, upper_limit], axis = 1)\n",
    "summary.columns = ['Band', 'FPM', 'Lower', 'Upper']\n",
    "summary['Band'] = pd.Categorical(summary['Band'], band_order)\n",
    "summary.sort_values(['Band', 'FPM'], ignore_index = True, inplace = True)\n",
    "display(summary)\n",
    " \n",
    "limits = summary.groupby('Band', observed = True).mean().iloc[:, 1:].reset_index()\n",
    "fig, ax = plt.subplots()\n",
    "fig.set_size_inches(10, 2)\n",
    "ax.set(xlabel = 'Wavelength (nm)', xlim = (400, 2500), ylim = (0, 0.155), xticks = range(300, 2700, 200), yticks = [], title = 'Landsat 9 OLI-2 Band Specifications')\n",
    "ax.spines[['top', 'left', 'right']].set(visible = False)\n",
    "ax.set_prop_cycle(color = ['dodgerblue', 'mediumblue', 'green', 'red', 'brown', 'goldenrod', 'gold', 'grey', 'orange'])\n",
    "for k, band in limits.iterrows():\n",
    "    if (band['Band'] not in ['CA', 'Pan', 'Cirrus']):\n",
    "        ax.fill_betweenx([0.04, 0.07], band['Lower'], band['Upper'], alpha = 0.3, label = band['Band'])\n",
    "        ax.text((band['Lower'] + band['Upper']) / 2, 0.055, k + 1, ha = 'center', va = 'center', size = 8)\n",
    "\n",
    "    else:\n",
    "        ax.fill_betweenx([0.08, 0.11], band['Lower'], band['Upper'], alpha = 0.3, label = band['Band'])\n",
    "        ax.text((band['Lower'] + band['Upper']) / 2, 0.095, k + 1, ha = 'center', va = 'center', size = 8)\n",
    "\n",
    "    ax.fill_betweenx([0.01, 0.02], band['Lower'], band['Upper'], fc = 'dimgrey')\n",
    "\n",
    "ax.text(2480, 0.095, '≥ L8', ha = 'right', va = 'center', size = 8)\n",
    "ax.text(2480, 0.055, '≥ L4', ha = 'right', va = 'center', size = 8)\n",
    "ax.text(2480, 0.015, 'Total', ha = 'right', va = 'center', size = 8)\n",
    "ax.legend(ncols = len(limits), mode = 'expand')\n",
    "plt.show()"
   ]
  },
  {
   "cell_type": "markdown",
   "metadata": {},
   "source": [
    "### 2.2 Read Landsat 9 OLI-2 Band Specifications - Relative Response"
   ]
  },
  {
   "cell_type": "code",
   "execution_count": null,
   "metadata": {},
   "outputs": [],
   "source": [
    "def oli2_reflectance(obj: SpectralLib, source: dict, clip: bool = True, c_range: list = None, join: bool = True, use_band_name: bool = False, **kwargs) -> pd.DataFrame:\n",
    "    '''\n",
    "    Simulate the reflectance Landsat 9 OLI-2 sensors received in the space. \n",
    "    '''\n",
    "    response = [v.set_index('wavelength', drop = True).iloc[:, :14] for k, v in source.items()]\n",
    "    response = [item.apply(np.mean, axis = 1) for item in response]\n",
    "    band_order = ['CA', 'Blue', 'Green', 'Red', 'NIR', 'SWIR1', 'SWIR2', 'Pan', 'Cirrus']\n",
    "    default_clip = [(435, 451), (452, 512), (533, 589), (636, 673), (850, 879), (1565, 1651), (2105, 2295), (503, 676), (1364, 1385)]\n",
    "    clip_range = [c_range[i] if c_range else (l, u) for i, (l, u) in enumerate(default_clip)]\n",
    "    band_reflectance = [obj.data.loc[response[i].index, :].multiply(response[i], axis = 0).fillna(0) for i in range(len(response))]\n",
    "    band_reflectance = [band.loc[clip_range[i][0]:clip_range[i][1] + 1, :] if clip else band for i, band in enumerate(band_reflectance)]\n",
    "    if not(join):\n",
    "        simulated = {band_order[i]: band_reflectance[i] for i in range(len(band_order))}\n",
    "        return simulated\n",
    "    \n",
    "    else:\n",
    "        proportions = [band.apply(lambda r: r / band.sum()) for band in response]\n",
    "        band_totals = [band_reflectance[i].multiply(proportions[i][band_reflectance[i].index], axis = 0).sum() for i in range(len(proportions))]\n",
    "        if use_band_name:\n",
    "            band_summary = pd.DataFrame({band_order[i]: band_totals[i] for i in range(len(band_order))}).T\n",
    "        \n",
    "        else:\n",
    "            band_center  = [round((l + u) / 2) for l, u in clip_range]\n",
    "            band_summary = pd.DataFrame({band_center[i]: band_totals[i] for i in range(len(band_order))}).T\n",
    "\n",
    "        return band_summary\n",
    "    \n",
    "def oli2_plots(obj: SpectralLib, source: dict, name: str = '', primary_color: list[str] = ['tab:blue', 'tab:orange', 'tab:green'], secondary_color: str = 'grey', **kwargs) -> None:\n",
    "    '''\n",
    "    Give the simulated Landsat 9 OLI-2 reflectance plots.\n",
    "    '''\n",
    "    if isinstance(obj, SpectralLib):\n",
    "        data     = oli2_reflectance(obj, source, **kwargs).sort_index().T\n",
    "        original = obj.stat\n",
    "        stats = data.describe().T.iloc[:, [1, 4, 5, 6]]\n",
    "        fig, ax = plt.subplots()\n",
    "        ax.set(xlabel = 'Wavelength (nm)', ylabel = 'Reflectance', ylim = (0, 0.5), title = f'Simulating {name} Spectra Distibution from OLI-2')\n",
    "        ax.plot(stats.index, stats['mean'], color = secondary_color, ls = 'dashed', lw = 1, label = 'Mean')\n",
    "        ax.plot(stats.index, stats['50%'], color = primary_color[0], lw = 1.5, label = 'Median')\n",
    "        ax.plot(original.index, original['50%'], color = primary_color[0], ls = 'dotted', lw = 1, label = 'Hyper. Median')\n",
    "        ax.scatter(stats.index, stats['50%'], fc = primary_color[0], s = 10, zorder = 2.1)\n",
    "        ax.scatter(stats.index, stats['mean'], fc = secondary_color, s = 10, zorder = 2)\n",
    "        ax.fill_between(stats.index, stats['25%'], stats['75%'], facecolor = primary_color[0], alpha = 0.3, label = 'IQR Range')\n",
    "        ax.legend()\n",
    "        ax.grid()\n",
    "        plt.show()\n",
    "\n",
    "    elif isinstance(obj, dict):\n",
    "        counter = 0\n",
    "        fig, ax = plt.subplots()\n",
    "        ax.set(xlabel = 'Wavelength (nm)', ylabel = 'Reflectance', xlim = (250, 2600), ylim = (0, 0.5), title = f'Simulating All Spectra Distibution from OLI-2')\n",
    "        for s_name, item in obj.items():\n",
    "            if isinstance(item, SpectralLib):\n",
    "                data  = oli2_reflectance(item, source, **kwargs).sort_index().T\n",
    "                stats = data.describe().T.iloc[:, [1, 4, 5, 6]]\n",
    "                ax.plot(stats.index, stats['50%'], color = primary_color[counter % len(primary_color)], lw = 1.5, label = f'{s_name} Median')\n",
    "                ax.scatter(stats.index, stats['50%'], fc = primary_color[counter % len(primary_color)], s = 10, zorder = 2)\n",
    "                ax.fill_between(stats.index, stats['25%'], stats['75%'], facecolor = primary_color[counter % len(primary_color)], alpha = 0.3)\n",
    "                counter += 1\n",
    "        \n",
    "        ax.fill_between([300, 2500], pd.Series(0, index = [300, 2500]), pd.Series(0, index = [300, 2500]), facecolor = 'grey', alpha = 0.3, label = 'IQR Range')\n",
    "        ax.legend()\n",
    "        ax.grid()\n",
    "        plt.show()"
   ]
  },
  {
   "cell_type": "code",
   "execution_count": null,
   "metadata": {},
   "outputs": [],
   "source": [
    "PV.data = oli2_reflectance(_PV, source_r).sort_index()\n",
    "NPV.data = oli2_reflectance(_NPV, source_r).sort_index()\n",
    "SOIL.data = oli2_reflectance(_SOIL, source_r).sort_index()\n",
    "PV = PV.differential()\n",
    "NPV = NPV.differential()\n",
    "SOIL = SOIL.differential()\n",
    "\n",
    "oli2_plots(_PV, source_r, 'PV', ['forestgreen'])\n",
    "oli2_plots(_NPV, source_r, 'NPV', ['coral'])\n",
    "oli2_plots(_SOIL, source_r, 'SOIL', ['olive'])\n",
    "oli2_plots({'PV': _PV, 'NPV': _NPV, 'Soil': _SOIL}, source_r, primary_color = ['forestgreen', 'coral', 'olive'])"
   ]
  },
  {
   "cell_type": "markdown",
   "metadata": {},
   "source": [
    "### 3. Answer the Question\n",
    "Can we use Landsat 9 OLI-2 Data to estimate fractional NPV cover? Let's find out."
   ]
  },
  {
   "cell_type": "code",
   "execution_count": null,
   "metadata": {},
   "outputs": [],
   "source": [
    "# Using the solution used in Question 1\n",
    "PV.data = oli2_reflectance(_PV, source_r).sort_index()\n",
    "NPV.data = oli2_reflectance(_NPV, source_r).sort_index()\n",
    "SOIL.data = oli2_reflectance(_SOIL, source_r).sort_index()\n",
    "PV = PV.differential()\n",
    "NPV = NPV.differential()\n",
    "SOIL = SOIL.differential()\n",
    "specs = ['PV', 'NPV', 'Soil']"
   ]
  },
  {
   "cell_type": "code",
   "execution_count": null,
   "metadata": {},
   "outputs": [],
   "source": [
    "err = (PV.stat['std'] ** 2 + NPV.stat['std'] ** 2 + SOIL.stat['std'] ** 2) ** (1 / 2)\n",
    "MIX = MixerCollection(PV.stat['50%'], NPV.stat['50%'], SOIL.stat['50%'], err)\n",
    "T011 = MIX.ingredient_plots(PV, specs, 1, weight_factor = 2)\n",
    "T012 = MIX.ingredient_plots(NPV, specs, 2, weight_factor = 2)\n",
    "T013 = MIX.ingredient_plots(SOIL, specs, 3, weight_factor = 2)\n",
    "Mixer.error_plot(T011, T012, T013, {0: 'PV', 1: 'NPV', 2: 'Soil', 3: 'Ambi.'})"
   ]
  },
  {
   "cell_type": "code",
   "execution_count": null,
   "metadata": {},
   "outputs": [],
   "source": [
    "rdmSpectra = Mixer.get_random_spectra_mix(3000, PV, NPV, SOIL, seed = 123)\n",
    "MIX.comparing_plots(rdmSpectra, 'NPV', status = True)"
   ]
  }
 ],
 "metadata": {
  "kernelspec": {
   "display_name": "Python 3",
   "language": "python",
   "name": "python3"
  },
  "language_info": {
   "codemirror_mode": {
    "name": "ipython",
    "version": 3
   },
   "file_extension": ".py",
   "mimetype": "text/x-python",
   "name": "python",
   "nbconvert_exporter": "python",
   "pygments_lexer": "ipython3",
   "version": "3.11.8"
  }
 },
 "nbformat": 4,
 "nbformat_minor": 2
}
